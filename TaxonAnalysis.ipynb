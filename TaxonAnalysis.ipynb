{
 "cells": [
  {
   "cell_type": "code",
   "execution_count": 1,
   "metadata": {},
   "outputs": [],
   "source": [
    "import pandas as pd"
   ]
  },
  {
   "cell_type": "code",
   "execution_count": 2,
   "metadata": {},
   "outputs": [],
   "source": [
    "readDf = pd.read_csv(\"NS0039.centrifuge.output\", sep=\"\\t\", names=[\"readID\",\"seqID\",\"taxID\", \"score\",\"2ndBestScore\",\"hitLength\",\"queryLength\", \"numMatches\"])"
   ]
  },
  {
   "cell_type": "code",
   "execution_count": 3,
   "metadata": {},
   "outputs": [],
   "source": [
    "nameDf = pd.read_csv(\"names.dmp\", sep=\"|\", names=[\"tax_id\", \"name_txt\", \"unique_name\", \"name_class\", \"blank\"], skipinitialspace=True)\n"
   ]
  },
  {
   "cell_type": "code",
   "execution_count": 4,
   "metadata": {},
   "outputs": [
    {
     "name": "stderr",
     "output_type": "stream",
     "text": [
      "C:\\Users\\WJang\\Anaconda3\\lib\\site-packages\\IPython\\core\\interactiveshell.py:2785: DtypeWarning: Columns (16) have mixed types. Specify dtype option on import or set low_memory=False.\n",
      "  interactivity=interactivity, compiler=compiler, result=result)\n"
     ]
    }
   ],
   "source": [
    "nodeDF = pd.read_csv(\"nodes.dmp\", sep=\"|\", names=[\"tax_id\", \"parent_tax_id\", \"rank\", \"embl code\", \"division_id\", \"inherited_div_flag\",\"genetic_code_id\",\"inherited_gc_flag\", \"mitochondrial_genetic_code_id\", \"inherited_mgc_flag\", \"genbank_hidden_flag\", \"hidden_subtree_root_flag\", \"comments\", \"plastid_genetic_code_id\", \"inherited_pgc_flag\", \"specified_species\", \"hydrogenosome_genetic_code\", \"inherited_hgc_flag\", \"blank\"], skipinitialspace=True)"
   ]
  },
  {
   "cell_type": "code",
   "execution_count": 5,
   "metadata": {},
   "outputs": [],
   "source": [
    "readIndex = dict()"
   ]
  },
  {
   "cell_type": "code",
   "execution_count": 6,
   "metadata": {
    "scrolled": true
   },
   "outputs": [
    {
     "name": "stdout",
     "output_type": "stream",
     "text": [
      "{}\n"
     ]
    }
   ],
   "source": [
    "print(readIndex)"
   ]
  },
  {
   "cell_type": "code",
   "execution_count": 7,
   "metadata": {},
   "outputs": [],
   "source": [
    "for index, row in readDf.iterrows():\n",
    "    if row[\"readID\"] not in readIndex:\n",
    "        readIndex[row[\"readID\"]] = set()\n",
    "    readIndex[row[\"readID\"]].add(row[\"taxID\"])"
   ]
  },
  {
   "cell_type": "code",
   "execution_count": 8,
   "metadata": {},
   "outputs": [],
   "source": [
    "tbRemoved = set()\n",
    "for entry in readIndex:\n",
    "    if len(readIndex[entry]) <=1:\n",
    "        tbRemoved.add(entry)\n",
    "for entry in tbRemoved:\n",
    "    readIndex.pop(entry)"
   ]
  },
  {
   "cell_type": "code",
   "execution_count": 8,
   "metadata": {},
   "outputs": [
    {
     "name": "stdout",
     "output_type": "stream",
     "text": [
      "176279\n"
     ]
    }
   ],
   "source": [
    "print(len(readIndex))"
   ]
  },
  {
   "cell_type": "code",
   "execution_count": 9,
   "metadata": {},
   "outputs": [
    {
     "name": "stdout",
     "output_type": "stream",
     "text": [
      "    tax_id                                           name_txt  \\\n",
      "0        1                                            \\tall\\t   \n",
      "1        1                                           \\troot\\t   \n",
      "2        2                                       \\tbacteria\\t   \n",
      "3        2                                       \\tBacteria\\t   \n",
      "4        2                                     \\teubacteria\\t   \n",
      "5        2                                         \\tMonera\\t   \n",
      "6        2                      \\tnot Bacteria Haeckel 1894\\t   \n",
      "7        2                                    \\tProcaryotae\\t   \n",
      "8        2                                    \\tProkaryotae\\t   \n",
      "9        2                                     \\tProkaryota\\t   \n",
      "10       2                                     \\tprokaryote\\t   \n",
      "11       2                                    \\tprokaryotes\\t   \n",
      "12       6                                   \\tAzorhizobium\\t   \n",
      "13       6  \\tAzorhizobium Dreyfus et al. 1988 emend. Lang...   \n",
      "14       7                       \\tAzorhizobium caulinodans\\t   \n",
      "15       7   \\tAzorhizobium caulinodans Dreyfus et al. 1988\\t   \n",
      "16       7                     \\tAzotirhizobium caulinodans\\t   \n",
      "17       9                 \\tAcyrthosiphon pisum symbiont P\\t   \n",
      "18       9                            \\tBuchnera aphidicola\\t   \n",
      "19       9         \\tBuchnera aphidicola Munson et al. 1991\\t   \n",
      "20      10                                     \\tCellvibrio\\t   \n",
      "21      10  \\tCellvibrio (ex Winogradsky 1929) Blackall et...   \n",
      "22      10  \\tCellvibrio (ex Winogradsky 1929) Blackall et...   \n",
      "23      10                  \\t\"Cellvibrio\" Winogradsky 1929\\t   \n",
      "24      11                            \\tCellulomonas gilvus\\t   \n",
      "25      11  \\t\"Cellulomonas gilvus\" (Hulcher and King 1958...   \n",
      "26      11                            \\t[Cellvibrio] gilvus\\t   \n",
      "27      11                              \\tCellvibrio gilvus\\t   \n",
      "28      11      \\t\"Cellvibrio gilvus\" Hulcher and King 1958\\t   \n",
      "29      13                                   \\tDictyoglomus\\t   \n",
      "30      13                 \\tDictyoglomus Saiki et al. 1985\\t   \n",
      "31      14                      \\tDictyoglomus thermophilum\\t   \n",
      "32      14    \\tDictyoglomus thermophilum Saiki et al. 1985\\t   \n",
      "33      16                                  \\tMethyliphilus\\t   \n",
      "34      16              \\tMethylophilus Jenkins et al. 1987\\t   \n",
      "35      16                                  \\tMethylophilus\\t   \n",
      "36      17                   \\tMethyliphilus methylitrophus\\t   \n",
      "37      17                   \\tMethyliphilus methylotrophus\\t   \n",
      "38      17                   \\tMethylophilus methylitrophus\\t   \n",
      "39      17  \\tMethylophilus methylotrophus Jenkins et al. ...   \n",
      "40      17                   \\tMethylophilus methylotrophus\\t   \n",
      "41      17                      \\tMethylophilus sp. CBMB147\\t   \n",
      "42      17                   \\tMethylotrophus methylophilus\\t   \n",
      "43      18                                     \\tPelobacter\\t   \n",
      "44      18             \\tPelobacter Schink and Pfennig 1983\\t   \n",
      "45      19                        \\tPelobacter carbinolicus\\t   \n",
      "46      19            \\tPelobacter carbinolicus Schink 1984\\t   \n",
      "47      20  \\tPhenylobacterium Lingens et al. 1985 emend. ...   \n",
      "48      20  \\tPhenylobacterium Lingens et al. 1985 emend. ...   \n",
      "49      20  \\tPhenylobacterium Lingens et al. 1985 emend. ...   \n",
      "\n",
      "                                          unique_name  \\\n",
      "0                                             \\tall\\t   \n",
      "1                                            \\troot\\t   \n",
      "2                               \\tbacteria <blast2>\\t   \n",
      "3                          \\tBacteria <prokaryotes>\\t   \n",
      "4                                      \\teubacteria\\t   \n",
      "5                               \\tMonera <Bacteria>\\t   \n",
      "6                       \\tnot Bacteria Haeckel 1894\\t   \n",
      "7                          \\tProcaryotae <Bacteria>\\t   \n",
      "8                          \\tProkaryotae <Bacteria>\\t   \n",
      "9                           \\tProkaryota <Bacteria>\\t   \n",
      "10                          \\tprokaryote <Bacteria>\\t   \n",
      "11                         \\tprokaryotes <Bacteria>\\t   \n",
      "12                                   \\tAzorhizobium\\t   \n",
      "13  \\tAzorhizobium Dreyfus et al. 1988 emend. Lang...   \n",
      "14                       \\tAzorhizobium caulinodans\\t   \n",
      "15   \\tAzorhizobium caulinodans Dreyfus et al. 1988\\t   \n",
      "16                     \\tAzotirhizobium caulinodans\\t   \n",
      "17                 \\tAcyrthosiphon pisum symbiont P\\t   \n",
      "18                            \\tBuchnera aphidicola\\t   \n",
      "19         \\tBuchnera aphidicola Munson et al. 1991\\t   \n",
      "20                                     \\tCellvibrio\\t   \n",
      "21  \\tCellvibrio (ex Winogradsky 1929) Blackall et...   \n",
      "22  \\tCellvibrio (ex Winogradsky 1929) Blackall et...   \n",
      "23                  \\t\"Cellvibrio\" Winogradsky 1929\\t   \n",
      "24                            \\tCellulomonas gilvus\\t   \n",
      "25  \\t\"Cellulomonas gilvus\" (Hulcher and King 1958...   \n",
      "26                            \\t[Cellvibrio] gilvus\\t   \n",
      "27                              \\tCellvibrio gilvus\\t   \n",
      "28      \\t\"Cellvibrio gilvus\" Hulcher and King 1958\\t   \n",
      "29                                   \\tDictyoglomus\\t   \n",
      "30                 \\tDictyoglomus Saiki et al. 1985\\t   \n",
      "31                      \\tDictyoglomus thermophilum\\t   \n",
      "32    \\tDictyoglomus thermophilum Saiki et al. 1985\\t   \n",
      "33                                  \\tMethyliphilus\\t   \n",
      "34              \\tMethylophilus Jenkins et al. 1987\\t   \n",
      "35                                  \\tMethylophilus\\t   \n",
      "36                   \\tMethyliphilus methylitrophus\\t   \n",
      "37                   \\tMethyliphilus methylotrophus\\t   \n",
      "38                   \\tMethylophilus methylitrophus\\t   \n",
      "39  \\tMethylophilus methylotrophus Jenkins et al. ...   \n",
      "40                   \\tMethylophilus methylotrophus\\t   \n",
      "41                      \\tMethylophilus sp. CBMB147\\t   \n",
      "42                   \\tMethylotrophus methylophilus\\t   \n",
      "43                                     \\tPelobacter\\t   \n",
      "44             \\tPelobacter Schink and Pfennig 1983\\t   \n",
      "45                        \\tPelobacter carbinolicus\\t   \n",
      "46            \\tPelobacter carbinolicus Schink 1984\\t   \n",
      "47  \\tPhenylobacterium Lingens et al. 1985 emend. ...   \n",
      "48  \\tPhenylobacterium Lingens et al. 1985 emend. ...   \n",
      "49  \\tPhenylobacterium Lingens et al. 1985 emend. ...   \n",
      "\n",
      "                 name_class  blank  \n",
      "0               \\tsynonym\\t    NaN  \n",
      "1       \\tscientific name\\t    NaN  \n",
      "2            \\tblast name\\t    NaN  \n",
      "3       \\tscientific name\\t    NaN  \n",
      "4   \\tgenbank common name\\t    NaN  \n",
      "5               \\tin-part\\t    NaN  \n",
      "6             \\tauthority\\t    NaN  \n",
      "7               \\tin-part\\t    NaN  \n",
      "8               \\tin-part\\t    NaN  \n",
      "9               \\tin-part\\t    NaN  \n",
      "10              \\tin-part\\t    NaN  \n",
      "11              \\tin-part\\t    NaN  \n",
      "12      \\tscientific name\\t    NaN  \n",
      "13            \\tauthority\\t    NaN  \n",
      "14      \\tscientific name\\t    NaN  \n",
      "15            \\tauthority\\t    NaN  \n",
      "16      \\tequivalent name\\t    NaN  \n",
      "17             \\tincludes\\t    NaN  \n",
      "18      \\tscientific name\\t    NaN  \n",
      "19            \\tauthority\\t    NaN  \n",
      "20      \\tscientific name\\t    NaN  \n",
      "21            \\tauthority\\t    NaN  \n",
      "22            \\tauthority\\t    NaN  \n",
      "23            \\tauthority\\t    NaN  \n",
      "24      \\tscientific name\\t    NaN  \n",
      "25            \\tauthority\\t    NaN  \n",
      "26      \\tequivalent name\\t    NaN  \n",
      "27              \\tsynonym\\t    NaN  \n",
      "28            \\tauthority\\t    NaN  \n",
      "29      \\tscientific name\\t    NaN  \n",
      "30            \\tauthority\\t    NaN  \n",
      "31      \\tscientific name\\t    NaN  \n",
      "32            \\tauthority\\t    NaN  \n",
      "33      \\tequivalent name\\t    NaN  \n",
      "34            \\tauthority\\t    NaN  \n",
      "35      \\tscientific name\\t    NaN  \n",
      "36      \\tequivalent name\\t    NaN  \n",
      "37      \\tequivalent name\\t    NaN  \n",
      "38      \\tequivalent name\\t    NaN  \n",
      "39            \\tauthority\\t    NaN  \n",
      "40      \\tscientific name\\t    NaN  \n",
      "41             \\tincludes\\t    NaN  \n",
      "42              \\tsynonym\\t    NaN  \n",
      "43      \\tscientific name\\t    NaN  \n",
      "44            \\tauthority\\t    NaN  \n",
      "45      \\tscientific name\\t    NaN  \n",
      "46            \\tauthority\\t    NaN  \n",
      "47            \\tauthority\\t    NaN  \n",
      "48            \\tauthority\\t    NaN  \n",
      "49            \\tauthority\\t    NaN  \n"
     ]
    }
   ],
   "source": [
    "print(nameDf.head(50))"
   ]
  },
  {
   "cell_type": "code",
   "execution_count": 10,
   "metadata": {},
   "outputs": [
    {
     "name": "stdout",
     "output_type": "stream",
     "text": [
      "   tax_id  parent_tax_id              rank embl code  division_id  \\\n",
      "0       1              1       \\tno rank\\t      \\t\\t            8   \n",
      "1       2         131567  \\tsuperkingdom\\t      \\t\\t            0   \n",
      "2       6         335928         \\tgenus\\t      \\t\\t            0   \n",
      "3       7              6       \\tspecies\\t    \\tAC\\t            0   \n",
      "4       9          32199       \\tspecies\\t    \\tBA\\t            0   \n",
      "5      10        1706371         \\tgenus\\t      \\t\\t            0   \n",
      "6      11           1707       \\tspecies\\t    \\tCG\\t            0   \n",
      "7      13         203488         \\tgenus\\t      \\t\\t            0   \n",
      "8      14             13       \\tspecies\\t    \\tDT\\t            0   \n",
      "9      16          32011         \\tgenus\\t      \\t\\t            0   \n",
      "\n",
      "   inherited_div_flag  genetic_code_id  inherited_gc_flag  \\\n",
      "0                   0                1                  0   \n",
      "1                   0               11                  0   \n",
      "2                   1               11                  1   \n",
      "3                   1               11                  1   \n",
      "4                   1               11                  1   \n",
      "5                   1               11                  1   \n",
      "6                   1               11                  1   \n",
      "7                   1               11                  1   \n",
      "8                   1               11                  1   \n",
      "9                   1               11                  1   \n",
      "\n",
      "   mitochondrial_genetic_code_id  inherited_mgc_flag  genbank_hidden_flag  \\\n",
      "0                              0                   0                    0   \n",
      "1                              0                   0                    0   \n",
      "2                              0                   1                    0   \n",
      "3                              0                   1                    1   \n",
      "4                              0                   1                    1   \n",
      "5                              0                   1                    0   \n",
      "6                              0                   1                    1   \n",
      "7                              0                   1                    0   \n",
      "8                              0                   1                    1   \n",
      "9                              0                   1                    0   \n",
      "\n",
      "   hidden_subtree_root_flag comments plastid_genetic_code_id  \\\n",
      "0                         0     \\t\\t                    \\t\\t   \n",
      "1                         0     \\t\\t                    \\t\\t   \n",
      "2                         0     \\t\\t                    \\t\\t   \n",
      "3                         0     \\t\\t                    \\t\\t   \n",
      "4                         0     \\t\\t                    \\t\\t   \n",
      "5                         0     \\t\\t                    \\t\\t   \n",
      "6                         0     \\t\\t                    \\t\\t   \n",
      "7                         0     \\t\\t                    \\t\\t   \n",
      "8                         0     \\t\\t                    \\t\\t   \n",
      "9                         0     \\t\\t                    \\t\\t   \n",
      "\n",
      "  inherited_pgc_flag  specified_species hydrogenosome_genetic_code  \\\n",
      "0               \\t\\t                  0                          0   \n",
      "1               \\t\\t                  0                          0   \n",
      "2               \\t\\t                  0                          0   \n",
      "3               \\t\\t                  1                          0   \n",
      "4               \\t\\t                  1                          0   \n",
      "5               \\t\\t                  0                          0   \n",
      "6               \\t\\t                  1                          0   \n",
      "7               \\t\\t                  0                          0   \n",
      "8               \\t\\t                  1                          0   \n",
      "9               \\t\\t                  0                          0   \n",
      "\n",
      "   inherited_hgc_flag  blank  \n",
      "0                   0    NaN  \n",
      "1                   1    NaN  \n",
      "2                   1    NaN  \n",
      "3                   1    NaN  \n",
      "4                   1    NaN  \n",
      "5                   1    NaN  \n",
      "6                   1    NaN  \n",
      "7                   1    NaN  \n",
      "8                   1    NaN  \n",
      "9                   1    NaN  \n"
     ]
    }
   ],
   "source": [
    "print(nodeDF.head(10))"
   ]
  },
  {
   "cell_type": "code",
   "execution_count": 11,
   "metadata": {},
   "outputs": [],
   "source": [
    "taxonIndex = {}\n",
    "for index, row in nameDf.iterrows():\n",
    "    if row[\"tax_id\"] not in taxonIndex:\n",
    "        taxonIndex[row[\"tax_id\"]] = row[\"name_txt\"].strip()\n",
    "        "
   ]
  },
  {
   "cell_type": "code",
   "execution_count": 12,
   "metadata": {},
   "outputs": [],
   "source": [
    "nodeIndex = {}\n",
    "for index, row in nodeDF.iterrows():\n",
    "    if row[\"tax_id\"] not in nodeIndex and row[\"rank\"].strip() == \"species\":\n",
    "        nodeIndex[row[\"tax_id\"]] = row[\"parent_tax_id\"]"
   ]
  },
  {
   "cell_type": "code",
   "execution_count": 15,
   "metadata": {},
   "outputs": [],
   "source": [
    "sReads, mReads = 0, 0\n",
    "for read in readIndex:\n",
    "    if len(readIndex[read]) > 1:\n",
    "        mReads += 1\n",
    "    else:\n",
    "        sReads += 1\n",
    "multipleReadsPercentDf = pd.DataFrame.from_dict({\"single taxon reads\" : [sReads], \"multiple taxon reads\" : [mReads]})\n"
   ]
  },
  {
   "cell_type": "code",
   "execution_count": 16,
   "metadata": {},
   "outputs": [
    {
     "name": "stdout",
     "output_type": "stream",
     "text": [
      "   single taxon reads  multiple taxon reads\n",
      "0              138403                 37876\n"
     ]
    }
   ],
   "source": [
    "print(multipleReadsPercentDf)"
   ]
  },
  {
   "cell_type": "code",
   "execution_count": 17,
   "metadata": {},
   "outputs": [],
   "source": [
    "import matplotlib.pyplot as plt"
   ]
  },
  {
   "cell_type": "code",
   "execution_count": 18,
   "metadata": {},
   "outputs": [
    {
     "data": {
      "text/plain": [
       "<matplotlib.axes._subplots.AxesSubplot at 0x18c0f4b0b00>"
      ]
     },
     "execution_count": 18,
     "metadata": {},
     "output_type": "execute_result"
    },
    {
     "data": {
      "image/png": "[encoded data removed]",
      "text/plain": [
       "<Figure size 432x288 with 1 Axes>"
      ]
     },
     "metadata": {},
     "output_type": "display_data"
    }
   ],
   "source": [
    "multipleReadsPercentDf.plot(kind=\"bar\")\n"
   ]
  },
  {
   "cell_type": "code",
   "execution_count": 45,
   "metadata": {},
   "outputs": [
    {
     "name": "stdout",
     "output_type": "stream",
     "text": [
      "[0]\n"
     ]
    }
   ],
   "source": [
    "taxonReadMapSize = {}\n",
    "for read in readIndex:\n",
    "    if len(readIndex[read]) not in taxonReadMapSize:\n",
    "        taxonReadMapSize[len(readIndex[read])] = [0]\n",
    "    taxonReadMapSize[len(readIndex[read])][0] += 1\n",
    "taxonMapSizes = pd.DataFrame.from_dict(taxonReadMapSize)\n",
    "print(taxonMapSizes.index.values)\n",
    "        "
   ]
  },
  {
   "cell_type": "code",
   "execution_count": 79,
   "metadata": {},
   "outputs": [
    {
     "data": {
      "image/png": "[encoded data removed]",
      "text/plain": [
       "<Figure size 432x288 with 1 Axes>"
      ]
     },
     "metadata": {},
     "output_type": "display_data"
    }
   ],
   "source": [
    "import matplotlib.pyplot as plt\n",
    "plot = taxonMapSizes.transpose().sort_values(0, ascending=False).plot(kind=\"bar\", title=\"number of species referenced given a read\", legend=False\n",
    "                                                                     )\n",
    "fig = plot.get_figure()\n",
    "fig.savefig('mapping_distribution.png')"
   ]
  },
  {
   "cell_type": "code",
   "execution_count": 54,
   "metadata": {},
   "outputs": [],
   "source": [
    "genusAnalysis = {}\n",
    "for read in readIndex:\n",
    "    if(len(readIndex[read]) == 1):\n",
    "        continue\n",
    "    genusSet = set()\n",
    "    for taxID in readIndex[read]:\n",
    "        if taxID not in nodeIndex: \n",
    "            continue\n",
    "        genusSet.add(nodeIndex[taxID])\n",
    "    if len(genusSet) not in genusAnalysis:\n",
    "        genusAnalysis[len(genusSet)] = [0]\n",
    "    genusAnalysis[len(genusSet)][0] += 1\n",
    "        "
   ]
  },
  {
   "cell_type": "code",
   "execution_count": 71,
   "metadata": {},
   "outputs": [
    {
     "name": "stdout",
     "output_type": "stream",
     "text": [
      "{1: [23066], 0: [4151], 2: [8254], 3: [1763], 4: [566], 5: [76]}\n"
     ]
    }
   ],
   "source": [
    "print(genusAnalysis)"
   ]
  },
  {
   "cell_type": "code",
   "execution_count": 72,
   "metadata": {},
   "outputs": [],
   "source": [
    "genusDf = pd.DataFrame.from_dict(genusAnalysis).transpose()"
   ]
  },
  {
   "cell_type": "code",
   "execution_count": 78,
   "metadata": {},
   "outputs": [
    {
     "data": {
      "image/png": "[encoded data removed]",
      "text/plain": [
       "<Figure size 432x288 with 1 Axes>"
      ]
     },
     "metadata": {},
     "output_type": "display_data"
    }
   ],
   "source": [
    "plot = genusDf.sort_index().plot(kind=\"bar\", title=\"Number of Genera for Reads' taxID's parent\", legend=False)\n",
    "fig = plot.get_figure()\n",
    "fig.savefig('genus_mapping_distribution.png')"
   ]
  },
  {
   "cell_type": "code",
   "execution_count": 74,
   "metadata": {},
   "outputs": [],
   "source": []
  },
  {
   "cell_type": "code",
   "execution_count": null,
   "metadata": {},
   "outputs": [],
   "source": []
  }
 ],
 "metadata": {
  "kernelspec": {
   "display_name": "Python 3",
   "language": "python",
   "name": "python3"
  },
  "language_info": {
   "codemirror_mode": {
    "name": "ipython",
    "version": 3
   },
   "file_extension": ".py",
   "mimetype": "text/x-python",
   "name": "python",
   "nbconvert_exporter": "python",
   "pygments_lexer": "ipython3",
   "version": "3.6.5"
  }
 },
 "nbformat": 4,
 "nbformat_minor": 2
}
