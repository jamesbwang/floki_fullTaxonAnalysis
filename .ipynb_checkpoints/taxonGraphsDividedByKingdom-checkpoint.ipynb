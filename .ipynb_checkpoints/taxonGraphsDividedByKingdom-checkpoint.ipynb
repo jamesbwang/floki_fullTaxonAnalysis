{
 "cells": [
  {
   "cell_type": "code",
   "execution_count": 1,
   "metadata": {},
   "outputs": [],
   "source": [
    "import pandas as pd"
   ]
  },
  {
   "cell_type": "code",
   "execution_count": 2,
   "metadata": {},
   "outputs": [],
   "source": [
    "readDf = pd.read_csv(\"NS0039.centrifuge.output\", sep=\"\\t\", names=[\"readID\",\"seqID\",\"taxID\", \"score\",\"2ndBestScore\",\"hitLength\",\"queryLength\", \"numMatches\"])"
   ]
  },
  {
   "cell_type": "code",
   "execution_count": 3,
   "metadata": {},
   "outputs": [],
   "source": [
    "nameDf = pd.read_csv(\"names.dmp\", sep=\"|\", names=[\"tax_id\", \"name_txt\", \"unique_name\", \"name_class\", \"blank\"], skipinitialspace=True)\n"
   ]
  },
  {
   "cell_type": "code",
   "execution_count": 4,
   "metadata": {},
   "outputs": [
    {
     "name": "stderr",
     "output_type": "stream",
     "text": [
      "C:\\Users\\WJang\\Anaconda3\\lib\\site-packages\\IPython\\core\\interactiveshell.py:2785: DtypeWarning: Columns (16) have mixed types. Specify dtype option on import or set low_memory=False.\n",
      "  interactivity=interactivity, compiler=compiler, result=result)\n"
     ]
    }
   ],
   "source": [
    "nodeDf = pd.read_csv(\"nodes.dmp\", sep=\"|\", names=[\"tax_id\", \"parent_tax_id\", \"rank\", \"embl code\", \"division_id\", \"inherited_div_flag\",\"genetic_code_id\",\"inherited_gc_flag\", \"mitochondrial_genetic_code_id\", \"inherited_mgc_flag\", \"genbank_hidden_flag\", \"hidden_subtree_root_flag\", \"comments\", \"plastid_genetic_code_id\", \"inherited_pgc_flag\", \"specified_species\", \"hydrogenosome_genetic_code\", \"inherited_hgc_flag\", \"blank\"], skipinitialspace=True)"
   ]
  },
  {
   "cell_type": "code",
   "execution_count": 5,
   "metadata": {},
   "outputs": [],
   "source": [
    "nodeDf = nodeDf.set_index('tax_id', drop=False)"
   ]
  },
  {
   "cell_type": "code",
   "execution_count": 6,
   "metadata": {},
   "outputs": [],
   "source": [
    "readIndex = {}\n",
    "for index, row in readDf.iterrows():\n",
    "    if row[\"readID\"] not in readIndex:\n",
    "        readIndex[row[\"readID\"]] = set()\n",
    "    readIndex[row[\"readID\"]].add(row[\"taxID\"])"
   ]
  },
  {
   "cell_type": "code",
   "execution_count": 7,
   "metadata": {},
   "outputs": [],
   "source": [
    "taxonIndex = {}\n",
    "for index, row in nameDf.iterrows():\n",
    "    if row[\"tax_id\"] not in taxonIndex:\n",
    "        taxonIndex[row[\"tax_id\"]] = row[\"name_txt\"].strip()\n",
    "        "
   ]
  },
  {
   "cell_type": "code",
   "execution_count": 8,
   "metadata": {},
   "outputs": [],
   "source": [
    "nodeIndex = {}\n",
    "for index, row in nodeDf.iterrows():\n",
    "    if row[\"tax_id\"] not in nodeIndex:\n",
    "        nodeIndex[row[\"tax_id\"]] = row[\"parent_tax_id\"]"
   ]
  },
  {
   "cell_type": "code",
   "execution_count": 9,
   "metadata": {},
   "outputs": [
    {
     "data": {
      "text/plain": [
       "tax_id                                     1\n",
       "parent_tax_id                              1\n",
       "rank                             \\tno rank\\t\n",
       "embl code                               \\t\\t\n",
       "division_id                                8\n",
       "inherited_div_flag                         0\n",
       "genetic_code_id                            1\n",
       "inherited_gc_flag                          0\n",
       "mitochondrial_genetic_code_id              0\n",
       "inherited_mgc_flag                         0\n",
       "genbank_hidden_flag                        0\n",
       "hidden_subtree_root_flag                   0\n",
       "comments                                \\t\\t\n",
       "plastid_genetic_code_id                 \\t\\t\n",
       "inherited_pgc_flag                      \\t\\t\n",
       "specified_species                          0\n",
       "hydrogenosome_genetic_code                 0\n",
       "inherited_hgc_flag                         0\n",
       "blank                                    NaN\n",
       "Name: 1, dtype: object"
      ]
     },
     "execution_count": 9,
     "metadata": {},
     "output_type": "execute_result"
    }
   ],
   "source": []
  },
  {
   "cell_type": "code",
   "execution_count": 17,
   "metadata": {},
   "outputs": [],
   "source": [
    "def findKingdom(nodeCode):\n",
    "    if nodeCode == 0 or nodeCode == 1 or nodeDf.loc[nodeCode][\"rank\"].strip().lower() == \"superkingdom\":\n",
    "        return nodeCode\n",
    "    return findKingdom(nodeIndex[nodeCode])"
   ]
  },
  {
   "cell_type": "code",
   "execution_count": 40,
   "metadata": {
    "scrolled": true
   },
   "outputs": [
    {
     "name": "stdout",
     "output_type": "stream",
     "text": [
      "176279\n",
      "[145931, 579, 30428, 623]\n"
     ]
    }
   ],
   "source": [
    "bacteriaIndex, virusIndex, eukaryIndex, otherIndex = {}, {}, {}, {}\n",
    "print(len(readIndex))\n",
    "for read in readIndex:\n",
    "    \n",
    "    for taxCode in readIndex[read]:\n",
    "        try:\n",
    "            if(taxCode == 0 or taxCode == 1 or taxCode not in taxonIndex):\n",
    "                continue\n",
    "            code = findKingdom(taxCode)\n",
    "            name = str(taxonIndex[code].lower().strip())\n",
    "            if name == \"vira\" or name == \"viroids\":\n",
    "                if read not in virusIndex:\n",
    "                    virusIndex[read] = set()\n",
    "                virusIndex[read].add(taxCode)\n",
    "            elif name == \"bacteria\":\n",
    "                if read not in bacteriaIndex:\n",
    "                    bacteriaIndex[read] = set()\n",
    "                bacteriaIndex[read].add(taxCode)\n",
    "            elif name == \"eucarya\":\n",
    "                if read not in eukaryIndex:\n",
    "                    eukaryIndex[read] = set()\n",
    "                eukaryIndex[read].add(taxCode) \n",
    "            \n",
    "            else:  \n",
    "                if read not in otherIndex:\n",
    "                    otherIndex[read] = set()\n",
    "                otherIndex[read].add(taxCode)\n",
    "        except:\n",
    "            print(\"error\" + taxCode)\n",
    "            continue\n",
    "print([len(bacteriaIndex), len(virusIndex), len(eukaryIndex), len(otherIndex)])\n",
    "            \n",
    "        \n",
    "            "
   ]
  },
  {
   "cell_type": "code",
   "execution_count": 45,
   "metadata": {},
   "outputs": [],
   "source": [
    "eukaryAnalysis = {}\n",
    "for read in eukaryIndex:\n",
    "    if len(eukaryIndex[read]) not in eukaryAnalysis:\n",
    "        eukaryAnalysis[len(eukaryIndex[read])] = [0]\n",
    "    eukaryAnalysis[len(eukaryIndex[read])][0] += 1\n",
    "eukaryDf = pd.DataFrame.from_dict(eukaryAnalysis)\n",
    "        "
   ]
  },
  {
   "cell_type": "code",
   "execution_count": 62,
   "metadata": {},
   "outputs": [
    {
     "name": "stderr",
     "output_type": "stream",
     "text": [
      "C:\\Users\\WJang\\Anaconda3\\lib\\site-packages\\ipykernel_launcher.py:2: FutureWarning: '.reindex_axis' is deprecated and will be removed in a future version. Use '.reindex' instead.\n",
      "  \n"
     ]
    },
    {
     "data": {
      "image/png": "[encoded data removed]",
      "text/plain": [
       "<Figure size 432x288 with 1 Axes>"
      ]
     },
     "metadata": {},
     "output_type": "display_data"
    }
   ],
   "source": [
    "import matplotlib.pyplot as plt\n",
    "plot = eukaryDf.reindex_axis(sorted(eukaryDf.columns), axis=1).transpose().plot(kind=\"bar\", title=\"number of species referenced for reads in eukaryotes\", legend=False\n",
    "                                                                     )\n",
    "fig = plot.get_figure()\n",
    "fig.savefig('eukaryote_distribution.png')"
   ]
  },
  {
   "cell_type": "code",
   "execution_count": 58,
   "metadata": {},
   "outputs": [
    {
     "name": "stdout",
     "output_type": "stream",
     "text": [
      "     1   3  4   2  5\n",
      "0  543  16  5  13  2\n"
     ]
    }
   ],
   "source": [
    "virusAnalysis = {}\n",
    "for read in virusIndex:\n",
    "    if len(virusIndex[read]) not in virusAnalysis:\n",
    "        virusAnalysis[len(virusIndex[read])] = [0]\n",
    "    virusAnalysis[len(virusIndex[read])][0] += 1\n",
    "virusDf = pd.DataFrame.from_dict(virusAnalysis)\n",
    "        "
   ]
  },
  {
   "cell_type": "code",
   "execution_count": 61,
   "metadata": {},
   "outputs": [
    {
     "name": "stderr",
     "output_type": "stream",
     "text": [
      "C:\\Users\\WJang\\Anaconda3\\lib\\site-packages\\ipykernel_launcher.py:2: FutureWarning: '.reindex_axis' is deprecated and will be removed in a future version. Use '.reindex' instead.\n",
      "  \n"
     ]
    },
    {
     "data": {
      "image/png": "[encoded data removed]",
      "text/plain": [
       "<Figure size 432x288 with 1 Axes>"
      ]
     },
     "metadata": {},
     "output_type": "display_data"
    }
   ],
   "source": [
    "import matplotlib.pyplot as plt\n",
    "plot = virusDf.reindex_axis(sorted(virusDf.columns), axis=1).transpose().plot(kind=\"bar\", title=\"number of species referenced for reads in viruses\", legend=False\n",
    "                                                                     )\n",
    "fig = plot.get_figure()\n",
    "fig.savefig('virus_distribution.png')"
   ]
  },
  {
   "cell_type": "code",
   "execution_count": 63,
   "metadata": {},
   "outputs": [],
   "source": [
    "bacAnalysis = {}\n",
    "for read in bacteriaIndex:\n",
    "    if len(bacteriaIndex[read]) not in bacAnalysis:\n",
    "        bacAnalysis[len(bacteriaIndex[read])] = [0]\n",
    "    bacAnalysis[len(bacteriaIndex[read])][0] += 1\n",
    "bacDf = pd.DataFrame.from_dict(bacAnalysis)"
   ]
  },
  {
   "cell_type": "code",
   "execution_count": 64,
   "metadata": {},
   "outputs": [
    {
     "name": "stderr",
     "output_type": "stream",
     "text": [
      "C:\\Users\\WJang\\Anaconda3\\lib\\site-packages\\ipykernel_launcher.py:2: FutureWarning: '.reindex_axis' is deprecated and will be removed in a future version. Use '.reindex' instead.\n",
      "  \n"
     ]
    },
    {
     "data": {
      "image/png": "[encoded data removed]",
      "text/plain": [
       "<Figure size 432x288 with 1 Axes>"
      ]
     },
     "metadata": {},
     "output_type": "display_data"
    }
   ],
   "source": [
    "import matplotlib.pyplot as plt\n",
    "plot = bacDf.reindex_axis(sorted(bacDf.columns), axis=1).transpose().plot(kind=\"bar\", title=\"number of species referenced for reads in bacteria\", legend=False\n",
    "                                                                     )\n",
    "fig = plot.get_figure()\n",
    "fig.savefig('bacteria_distribution.png')"
   ]
  },
  {
   "cell_type": "code",
   "execution_count": null,
   "metadata": {},
   "outputs": [],
   "source": []
  },
  {
   "cell_type": "code",
   "execution_count": null,
   "metadata": {},
   "outputs": [],
   "source": []
  }
 ],
 "metadata": {
  "kernelspec": {
   "display_name": "Python 3",
   "language": "python",
   "name": "python3"
  },
  "language_info": {
   "codemirror_mode": {
    "name": "ipython",
    "version": 3
   },
   "file_extension": ".py",
   "mimetype": "text/x-python",
   "name": "python",
   "nbconvert_exporter": "python",
   "pygments_lexer": "ipython3",
   "version": "3.6.5"
  }
 },
 "nbformat": 4,
 "nbformat_minor": 2
}
